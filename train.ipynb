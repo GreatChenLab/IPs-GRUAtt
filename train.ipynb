{
 "cells": [
  {
   "cell_type": "markdown",
   "metadata": {
    "pycharm": {
     "name": "#%% md\n"
    }
   },
   "source": [
    "导入包"
   ]
  },
  {
   "cell_type": "code",
   "execution_count": 1,
   "metadata": {
    "pycharm": {
     "name": "#%%\n"
    }
   },
   "outputs": [],
   "source": [
    "import numpy as np\n",
    "import pandas as pd\n",
    "import tensorflow as tf\n",
    "from tensorflow.keras import backend as K\n",
    "from tensorflow.keras import initializers, regularizers, constraints\n",
    "from tensorflow.keras import Input, Model\n",
    "from tensorflow.keras.layers import Embedding,Dense,Dropout,Bidirectional,LSTM,GRU,Conv1D,Layer\n",
    "from sklearn.model_selection import StratifiedKFold\n",
    "from sklearn.metrics import roc_curve,auc"
   ]
  },
  {
   "cell_type": "markdown",
   "metadata": {
    "pycharm": {
     "name": "#%% md\n"
    }
   },
   "source": [
    "读取数据"
   ]
  },
  {
   "cell_type": "code",
   "execution_count": 2,
   "metadata": {
    "pycharm": {
     "name": "#%%\n"
    }
   },
   "outputs": [
    {
     "name": "stdout",
     "output_type": "stream",
     "text": [
      "17232 4316 324 84\n"
     ]
    }
   ],
   "source": [
    "with  open(\"data\\ST-train.fa\") as f:\n",
    "    ST_train = f.readlines()\n",
    "    ST_train = [s.strip() for s in ST_train]\n",
    "with  open(\"data\\ST-test.fa\") as f:\n",
    "    ST_test = f.readlines()\n",
    "    ST_test = [s.strip() for s in ST_test]\n",
    "with  open(\"data\\Y-train.fa\") as f:\n",
    "    Y_train = f.readlines()\n",
    "    Y_train = [s.strip() for s in Y_train]\n",
    "with  open(\"data\\Y-test.fa\") as f:\n",
    "    Y_test = f.readlines()\n",
    "    Y_test = [s.strip() for s in Y_test]\n",
    "print(len(ST_train),len(ST_test),len(Y_train),len(Y_test))"
   ]
  },
  {
   "cell_type": "markdown",
   "metadata": {
    "pycharm": {
     "name": "#%% md\n"
    }
   },
   "source": [
    "提取序列"
   ]
  },
  {
   "cell_type": "code",
   "execution_count": 3,
   "metadata": {
    "pycharm": {
     "name": "#%%\n"
    }
   },
   "outputs": [],
   "source": [
    "def remove_name(data):\n",
    "    data_new = []\n",
    "    for i in range(1,len(data),2):\n",
    "        data_new.append(data[i])\n",
    "    return data_new"
   ]
  },
  {
   "cell_type": "code",
   "execution_count": 4,
   "metadata": {
    "pycharm": {
     "name": "#%%\n"
    }
   },
   "outputs": [
    {
     "name": "stdout",
     "output_type": "stream",
     "text": [
      "8616 33\n",
      "2158 33\n",
      "162 33\n",
      "42 33\n"
     ]
    }
   ],
   "source": [
    "ST_train_x = remove_name(ST_train)\n",
    "ST_test_x = remove_name(ST_test)\n",
    "Y_train_x = remove_name(Y_train)\n",
    "Y_test_x = remove_name(Y_test)\n",
    "print(len(ST_train_x),len(ST_train_x[0]))\n",
    "print(len(ST_test_x),len(ST_test_x[0]))\n",
    "print(len(Y_train_x),len(Y_train_x[0]))\n",
    "print(len(Y_test_x),len(Y_test_x[0]))"
   ]
  },
  {
   "cell_type": "markdown",
   "metadata": {
    "pycharm": {
     "name": "#%% md\n"
    }
   },
   "source": [
    "定义标签"
   ]
  },
  {
   "cell_type": "code",
   "execution_count": 5,
   "metadata": {
    "pycharm": {
     "name": "#%%\n"
    }
   },
   "outputs": [
    {
     "name": "stdout",
     "output_type": "stream",
     "text": [
      "(8616,) (2158,)\n",
      "(162,) (42,)\n"
     ]
    }
   ],
   "source": [
    "ST_train_y = np.concatenate([np.ones((int(len(ST_train_x)/2),)), np.zeros((int(len(ST_train_x)/2),))], axis=0)  #竖向拼接\n",
    "ST_test_y = np.concatenate([np.ones((int(len(ST_test_x)/2),)), np.zeros((int(len(ST_test_x)/2),))], axis=0)\n",
    "print(ST_train_y.shape,ST_test_y.shape)\n",
    "Y_train_y = np.concatenate([np.ones((int(len(Y_train_x)/2),)), np.zeros((int(len(Y_train_x)/2),))], axis=0)  #竖向拼接\n",
    "Y_test_y = np.concatenate([np.ones((int(len(Y_test_x)/2),)), np.zeros((int(len(Y_test_x)/2),))], axis=0)\n",
    "print(Y_train_y.shape,Y_test_y.shape)"
   ]
  },
  {
   "cell_type": "markdown",
   "metadata": {
    "pycharm": {
     "name": "#%% md\n"
    }
   },
   "source": [
    "数字编码"
   ]
  },
  {
   "cell_type": "code",
   "execution_count": 6,
   "metadata": {
    "pycharm": {
     "name": "#%%\n"
    }
   },
   "outputs": [],
   "source": [
    "def encode_matrix(seq_matrix):\n",
    "    \"\"\"将字符编码为整数\n",
    "    \"\"\"\n",
    "    ind_to_char = ['A', 'C', 'D', 'E', 'F', 'G', 'H', 'I', 'K', 'L', 'M','N','P', 'Q', 'R', 'S', 'T', 'V', 'W', 'Y', 'X']\n",
    "    char_to_ind = {char: i for i, char in enumerate(ind_to_char)}\n",
    "    return [[char_to_ind[i] for i in s] for s in seq_matrix]"
   ]
  },
  {
   "cell_type": "code",
   "execution_count": 7,
   "metadata": {
    "pycharm": {
     "name": "#%%\n"
    }
   },
   "outputs": [
    {
     "name": "stdout",
     "output_type": "stream",
     "text": [
      "(8616, 33) (2158, 33) (162, 33) (42, 33)\n"
     ]
    }
   ],
   "source": [
    "ST_train_x = encode_matrix(ST_train_x)\n",
    "ST_test_x = encode_matrix(ST_test_x)\n",
    "Y_train_x = encode_matrix(Y_train_x)\n",
    "Y_test_x = encode_matrix(Y_test_x)\n",
    "ST_train_x = np.array(ST_train_x)\n",
    "ST_test_x = np.array(ST_test_x)\n",
    "Y_train_x = np.array(Y_train_x)\n",
    "Y_test_x = np.array(Y_test_x)\n",
    "print(ST_train_x.shape,ST_test_x.shape,Y_train_x.shape,Y_test_x.shape)"
   ]
  },
  {
   "cell_type": "markdown",
   "metadata": {
    "pycharm": {
     "name": "#%% md\n"
    }
   },
   "source": [
    "评价指标"
   ]
  },
  {
   "cell_type": "code",
   "execution_count": 8,
   "metadata": {
    "pycharm": {
     "name": "#%%\n"
    }
   },
   "outputs": [],
   "source": [
    "#定义SN、SP、ACC、MCC\n",
    "def sn_sp_acc_mcc(true_label,predict_label,pos_label=1):\n",
    "    import math\n",
    "    pos_num = np.sum(true_label==pos_label)\n",
    "    print('pos_num=',pos_num)\n",
    "    neg_num = true_label.shape[0]-pos_num\n",
    "    print('neg_num=',neg_num)\n",
    "    tp =np.sum((true_label==pos_label) & (predict_label==pos_label))\n",
    "    print('tp=',tp)\n",
    "    tn = np.sum(true_label==predict_label)-tp\n",
    "    print('tn=',tn)\n",
    "    sn = tp/pos_num\n",
    "    sp = tn/neg_num\n",
    "    acc = (tp+tn)/(pos_num+neg_num)\n",
    "    fn = pos_num - tp\n",
    "    fp = neg_num - tn\n",
    "    print('fn=',fn)\n",
    "    print('fp=',fp)\n",
    "    \n",
    "    tp = np.array(tp,dtype=np.float64)\n",
    "    tn = np.array(tn,dtype=np.float64)\n",
    "    fp = np.array(fp,dtype=np.float64)\n",
    "    fn = np.array(fn,dtype=np.float64)\n",
    "    mcc = (tp*tn-fp*fn)/(np.sqrt((tp+fn)*(tp+fp)*(tn+fp)*(tn+fn)))\n",
    "    return sn,sp,acc,mcc"
   ]
  },
  {
   "cell_type": "markdown",
   "metadata": {
    "pycharm": {
     "name": "#%% md\n"
    }
   },
   "source": [
    "注意力机制"
   ]
  },
  {
   "cell_type": "code",
   "execution_count": 9,
   "metadata": {
    "pycharm": {
     "name": "#%%\n"
    }
   },
   "outputs": [],
   "source": [
    "class Attention3d(Layer):\n",
    "    def __init__(self, step_dim,\n",
    "                 W_regularizer=None, b_regularizer=None,\n",
    "                 W_constraint=None, b_constraint=None,\n",
    "                 bias=True, **kwargs):\n",
    "\n",
    "        self.W_regularizer = regularizers.get(W_regularizer)\n",
    "        self.b_regularizer = regularizers.get(b_regularizer)\n",
    "\n",
    "        self.W_constraint = constraints.get(W_constraint)\n",
    "        self.b_constraint = constraints.get(b_constraint)\n",
    "\n",
    "        self.bias = bias\n",
    "        self.step_dim = step_dim\n",
    "        self.features_dim = 0\n",
    "\n",
    "        super(Attention3d, self).__init__(**kwargs)\n",
    "    def get_config(self):\n",
    "         config = {\"W_regularizer\":self.W_regularizer,\n",
    "                   \"b_regularizer\":self.b_regularizer,\"W_constraint\":self.W_constraint,\"b_constraint\":self.b_constraint,\n",
    "                    \"bias\":self.bias,\"step_dim\":self.step_dim,\"features_dim\":self.features_dim}\n",
    "         base_config = super(Attention3d, self).get_config()\n",
    "         return dict(list(base_config.items()) + list(config.items()))\n",
    "\n",
    "    def build(self, input_shape):\n",
    "        assert len(input_shape) == 3\n",
    "\n",
    "        self.W = self.add_weight(shape=(input_shape[-1],),\n",
    "                                 initializer=initializers.get('glorot_uniform'),\n",
    "                                 name='{}_W'.format(self.name),\n",
    "                                 regularizer=self.W_regularizer,\n",
    "                                 constraint=self.W_constraint)\n",
    "        self.features_dim = input_shape[-1]\n",
    "\n",
    "        if self.bias:\n",
    "            self.b = self.add_weight(shape=(input_shape[1],),\n",
    "                                     initializer='zero',\n",
    "                                     name='{}_b'.format(self.name),\n",
    "                                     regularizer=self.b_regularizer,\n",
    "                                     constraint=self.b_constraint)\n",
    "        else:\n",
    "            self.b = None\n",
    "\n",
    "        self.built = True\n",
    "\n",
    "    def compute_mask(self, input, input_mask=None):\n",
    "        # do not pass the mask to the next layers\n",
    "        return None\n",
    "\n",
    "    def call(self, x, mask=None):\n",
    "        features_dim = self.features_dim\n",
    "        step_dim = self.step_dim\n",
    "\n",
    "        e = K.reshape(K.dot(K.reshape(x, (-1, features_dim)), K.reshape(self.W, (features_dim, 1))), (-1, step_dim))  # e = K.dot(x, self.W)\n",
    "        if self.bias:\n",
    "            e += self.b\n",
    "        e = K.tanh(e)\n",
    "\n",
    "        a = K.exp(e)\n",
    "        # apply mask after the exp. will be re-normalized next\n",
    "        if mask is not None:\n",
    "            # cast the mask to floatX to avoid float64 upcasting in theano\n",
    "            a *= K.cast(mask, K.floatx())\n",
    "        # in some cases especially in the early stages of training the sum may be almost zero\n",
    "        # and this results in NaN's. A workaround is to add a very small positive number ε to the sum.\n",
    "        a /= K.cast(K.sum(a, axis=1, keepdims=True) + K.epsilon(), K.floatx())\n",
    "        a = K.expand_dims(a)\n",
    "\n",
    "        c = K.sum(a * x, axis=1)\n",
    "        return c\n",
    "\n",
    "    def compute_output_shape(self, input_shape):\n",
    "        return input_shape[0], self.features_dim"
   ]
  },
  {
   "cell_type": "markdown",
   "metadata": {
    "pycharm": {
     "name": "#%% md\n"
    }
   },
   "source": [
    "构建模型"
   ]
  },
  {
   "cell_type": "code",
   "execution_count": 10,
   "metadata": {
    "pycharm": {
     "name": "#%%\n"
    }
   },
   "outputs": [],
   "source": [
    "def define_model():\n",
    "    maxlen = 33\n",
    "    max_features = 21\n",
    "    embedding_dims = 64\n",
    "    class_num = 1\n",
    "    last_activation = 'sigmoid'\n",
    "    input = Input((maxlen,))\n",
    "    embedding = Embedding(max_features, embedding_dims, input_length=maxlen)(input)\n",
    "\n",
    "    x = Bidirectional(GRU(64, return_sequences=True))(embedding)\n",
    "    x = Bidirectional(GRU(32, return_sequences=True))(x)\n",
    "#     x = Bidirectional(GRU(16, return_sequences=True))(x)\n",
    "    x = Dropout(0.5)(x)\n",
    "    x = Attention3d(maxlen)(x)\n",
    "\n",
    "    t = Dense(16,activation='relu')(x)\n",
    "    output = Dense(class_num, activation=last_activation)(t)\n",
    "    model = Model(inputs=input, outputs=output)\n",
    "    model.compile(loss=tf.keras.losses.BinaryCrossentropy(from_logits=False),\n",
    "                  optimizer=tf.keras.optimizers.Adam(learning_rate=1e-4),\n",
    "                  metrics=['accuracy'])\n",
    "    return model"
   ]
  },
  {
   "cell_type": "code",
   "execution_count": null,
   "metadata": {
    "pycharm": {
     "name": "#%%\n"
    }
   },
   "outputs": [],
   "source": [
    "# 早停法\n",
    "checkpoint = tf.keras.callbacks.EarlyStopping(monitor='val_loss',\n",
    "                                              min_delta=0,\n",
    "                                              patience=5,\n",
    "                                              verbose=1,\n",
    "                                              mode='auto')"
   ]
  },
  {
   "cell_type": "markdown",
   "metadata": {
    "pycharm": {
     "name": "#%% md\n"
    }
   },
   "source": [
    "交叉验证"
   ]
  },
  {
   "cell_type": "code",
   "execution_count": null,
   "metadata": {
    "pycharm": {
     "name": "#%%\n"
    }
   },
   "outputs": [],
   "source": [
    "#交叉验证\n",
    "def Kfold(data_x,data_y,K):\n",
    "    kfold = StratifiedKFold(n_splits=K, shuffle=True, random_state=7)\n",
    "    sn_score = []\n",
    "    sp_score = []\n",
    "    acc_score = []\n",
    "    mcc_score = []\n",
    "    auc_score = []\n",
    "\n",
    "    for i,(train, test) in enumerate(kfold.split(data_x, data_y)):\n",
    "        print('\\n\\n%d'%i)\n",
    "        \n",
    "        model = define_model()\n",
    "        model.fit(data_x[train],data_y[train],epochs=200,validation_data=(data_x[test],data_y[test]),shuffle=True,callbacks=[checkpoint],verbose=1)\n",
    "        res = model.predict(data_x[test])\n",
    "        pred = np.squeeze(res,axis=-1)\n",
    "        f = pred>0.5\n",
    "        pred[f]=1\n",
    "        pred[pred<0.6]=0\n",
    "        sn_sp_acc_mcc_5fold = sn_sp_acc_mcc(data_y[test],pred,pos_label=1)\n",
    "        print(sn_sp_acc_mcc_5fold)\n",
    "        FPR,TPR,threshold = roc_curve(data_y[test],model.predict(data_x[test]),pos_label=1)\n",
    "        AUC = auc(FPR,TPR)\n",
    "        print(AUC)\n",
    "        sn_score.append(round(sn_sp_acc_mcc_5fold[0],4))\n",
    "        sp_score.append(round(sn_sp_acc_mcc_5fold[1],4))\n",
    "        acc_score.append(round(sn_sp_acc_mcc_5fold[2],4))\n",
    "        mcc_score.append(round(sn_sp_acc_mcc_5fold[3],4))\n",
    "        auc_score.append(round(AUC,4))\n",
    "        \n",
    "    return sn_score,sp_score,acc_score,mcc_score,auc_score"
   ]
  },
  {
   "cell_type": "code",
   "execution_count": null,
   "metadata": {
    "pycharm": {
     "name": "#%%\n"
    }
   },
   "outputs": [],
   "source": [
    "ST_5fold_sn,ST_5fold_sp,ST_5fold_acc,ST_5fold_mcc,ST_5fold_auc = Kfold(ST_train_x,ST_train_y,5)"
   ]
  },
  {
   "cell_type": "code",
   "execution_count": null,
   "metadata": {
    "pycharm": {
     "name": "#%%\n"
    }
   },
   "outputs": [],
   "source": [
    "ST_5fold_sn_mean = round(np.mean(ST_5fold_sn),4)\n",
    "ST_5fold_sp_mean = round(np.mean(ST_5fold_sp),4)\n",
    "ST_5fold_acc_mean = round(np.mean(ST_5fold_acc),4)\n",
    "ST_5fold_mcc_mean = round(np.mean(ST_5fold_mcc),4)\n",
    "ST_5fold_auc_mean = round(np.mean(ST_5fold_auc),4)"
   ]
  },
  {
   "cell_type": "code",
   "execution_count": null,
   "metadata": {
    "pycharm": {
     "name": "#%%\n"
    }
   },
   "outputs": [],
   "source": [
    "with open(\"result/ST_5fold_result.txt\",\"w\") as f:\n",
    "    f.write(\"ST_5fold_sn_mean:\"+str(ST_5fold_sn_mean)+'\\n')\n",
    "    f.write(\"ST_5fold_sp_mean:\"+str(ST_5fold_sp_mean)+'\\n')\n",
    "    f.write(\"ST_5fold_acc_mean:\"+str(ST_5fold_acc_mean)+'\\n')\n",
    "    f.write(\"ST_5fold_mcc_mean:\"+str(ST_5fold_mcc_mean)+'\\n')\n",
    "    f.write(\"ST_5fold_auc_mean:\"+str(ST_5fold_auc_mean)+'\\n')"
   ]
  },
  {
   "cell_type": "code",
   "execution_count": null,
   "metadata": {
    "pycharm": {
     "name": "#%%\n"
    }
   },
   "outputs": [],
   "source": [
    "Y_5fold_sn,Y_5fold_sp,Y_5fold_acc,Y_5fold_mcc,Y_5fold_auc = Kfold(Y_train_x,Y_train_y,5)"
   ]
  },
  {
   "cell_type": "code",
   "execution_count": null,
   "metadata": {
    "pycharm": {
     "name": "#%%\n"
    }
   },
   "outputs": [],
   "source": [
    "Y_5fold_sn_mean = round(np.mean(Y_5fold_sn),4)\n",
    "Y_5fold_sp_mean = round(np.mean(Y_5fold_sp),4)\n",
    "Y_5fold_acc_mean = round(np.mean(Y_5fold_acc),4)\n",
    "Y_5fold_mcc_mean = round(np.mean(Y_5fold_mcc),4)\n",
    "Y_5fold_auc_mean = round(np.mean(Y_5fold_auc),4)"
   ]
  },
  {
   "cell_type": "code",
   "execution_count": null,
   "metadata": {
    "pycharm": {
     "name": "#%%\n"
    }
   },
   "outputs": [],
   "source": [
    "with open(\"result/Y_5fold_result.txt\",\"w\") as f:\n",
    "    f.write(\"Y_5fold_sn_mean:\"+str(Y_5fold_sn_mean)+'\\n')\n",
    "    f.write(\"Y_5fold_sp_mean:\"+str(Y_5fold_sp_mean)+'\\n')\n",
    "    f.write(\"Y_5fold_acc_mean:\"+str(Y_5fold_acc_mean)+'\\n')\n",
    "    f.write(\"Y_5fold_mcc_mean:\"+str(Y_5fold_mcc_mean)+'\\n')\n",
    "    f.write(\"Y_5fold_auc_mean:\"+str(Y_5fold_auc_mean)+'\\n')"
   ]
  },
  {
   "cell_type": "markdown",
   "metadata": {
    "pycharm": {
     "name": "#%% md\n"
    }
   },
   "source": [
    "独立测试"
   ]
  },
  {
   "cell_type": "code",
   "execution_count": 13,
   "metadata": {
    "pycharm": {
     "name": "#%%\n"
    }
   },
   "outputs": [],
   "source": [
    "ST_model = define_model()"
   ]
  },
  {
   "cell_type": "code",
   "execution_count": 14,
   "metadata": {
    "pycharm": {
     "name": "#%%\n"
    }
   },
   "outputs": [
    {
     "name": "stdout",
     "output_type": "stream",
     "text": [
      "Model: \"model_1\"\n",
      "_________________________________________________________________\n",
      "Layer (type)                 Output Shape              Param #   \n",
      "=================================================================\n",
      "input_2 (InputLayer)         [(None, 33)]              0         \n",
      "_________________________________________________________________\n",
      "embedding_1 (Embedding)      (None, 33, 64)            1344      \n",
      "_________________________________________________________________\n",
      "bidirectional_2 (Bidirection (None, 33, 128)           49920     \n",
      "_________________________________________________________________\n",
      "bidirectional_3 (Bidirection (None, 33, 64)            31104     \n",
      "_________________________________________________________________\n",
      "dropout_1 (Dropout)          (None, 33, 64)            0         \n",
      "_________________________________________________________________\n",
      "attention3d_1 (Attention3d)  (None, 64)                97        \n",
      "_________________________________________________________________\n",
      "dense_2 (Dense)              (None, 16)                1040      \n",
      "_________________________________________________________________\n",
      "dense_3 (Dense)              (None, 1)                 17        \n",
      "=================================================================\n",
      "Total params: 83,522\n",
      "Trainable params: 83,522\n",
      "Non-trainable params: 0\n",
      "_________________________________________________________________\n"
     ]
    }
   ],
   "source": [
    "ST_model.summary()"
   ]
  },
  {
   "cell_type": "code",
   "execution_count": null,
   "metadata": {
    "pycharm": {
     "name": "#%%\n"
    }
   },
   "outputs": [],
   "source": [
    "ST_model.fit(ST_train_x,ST_train_y,epochs=200,validation_data=(ST_test_x,ST_test_y),shuffle=True,callbacks=[checkpoint],verbose=1)"
   ]
  },
  {
   "cell_type": "code",
   "execution_count": 30,
   "metadata": {
    "pycharm": {
     "name": "#%%\n"
    }
   },
   "outputs": [],
   "source": [
    "ST_model.save_weights('model/ST_model.h5')"
   ]
  },
  {
   "cell_type": "code",
   "execution_count": 18,
   "metadata": {
    "pycharm": {
     "name": "#%%\n"
    }
   },
   "outputs": [],
   "source": [
    "Y_model = define_model()"
   ]
  },
  {
   "cell_type": "code",
   "execution_count": 19,
   "metadata": {
    "pycharm": {
     "name": "#%%\n"
    }
   },
   "outputs": [
    {
     "name": "stdout",
     "output_type": "stream",
     "text": [
      "Model: \"model_2\"\n",
      "_________________________________________________________________\n",
      "Layer (type)                 Output Shape              Param #   \n",
      "=================================================================\n",
      "input_3 (InputLayer)         [(None, 33)]              0         \n",
      "_________________________________________________________________\n",
      "embedding_2 (Embedding)      (None, 33, 64)            1344      \n",
      "_________________________________________________________________\n",
      "bidirectional_4 (Bidirection (None, 33, 128)           49920     \n",
      "_________________________________________________________________\n",
      "bidirectional_5 (Bidirection (None, 33, 64)            31104     \n",
      "_________________________________________________________________\n",
      "dropout_2 (Dropout)          (None, 33, 64)            0         \n",
      "_________________________________________________________________\n",
      "attention3d_2 (Attention3d)  (None, 64)                97        \n",
      "_________________________________________________________________\n",
      "dense_4 (Dense)              (None, 16)                1040      \n",
      "_________________________________________________________________\n",
      "dense_5 (Dense)              (None, 1)                 17        \n",
      "=================================================================\n",
      "Total params: 83,522\n",
      "Trainable params: 83,522\n",
      "Non-trainable params: 0\n",
      "_________________________________________________________________\n"
     ]
    }
   ],
   "source": [
    "Y_model.summary()"
   ]
  },
  {
   "cell_type": "code",
   "execution_count": null,
   "metadata": {
    "pycharm": {
     "name": "#%%\n"
    }
   },
   "outputs": [],
   "source": [
    "Y_model.fit(Y_train_x,Y_train_y,epochs=200,validation_data=(Y_test_x,Y_test_y),shuffle=True,callbacks=[checkpoint],verbose=1)"
   ]
  },
  {
   "cell_type": "code",
   "execution_count": 31,
   "metadata": {
    "pycharm": {
     "name": "#%%\n"
    }
   },
   "outputs": [],
   "source": [
    "Y_model.save_weights('model/Y_model.h5')"
   ]
  },
  {
   "cell_type": "code",
   "execution_count": null,
   "metadata": {
    "pycharm": {
     "name": "#%%\n"
    }
   },
   "outputs": [],
   "source": []
  }
 ],
 "metadata": {
  "kernelspec": {
   "display_name": "Python 3",
   "language": "python",
   "name": "python3"
  },
  "language_info": {
   "codemirror_mode": {
    "name": "ipython",
    "version": 3
   },
   "file_extension": ".py",
   "mimetype": "text/x-python",
   "name": "python",
   "nbconvert_exporter": "python",
   "pygments_lexer": "ipython3",
   "version": "3.7.0"
  }
 },
 "nbformat": 4,
 "nbformat_minor": 2
}